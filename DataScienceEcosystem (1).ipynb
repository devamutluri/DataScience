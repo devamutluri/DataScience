{
 "cells": [
  {
   "cell_type": "markdown",
   "id": "562e0d41-b1e2-4b92-9207-9dcbc7a12d36",
   "metadata": {},
   "source": [
    "#Data Science Tools and Ecosystem\n"
   ]
  },
  {
   "cell_type": "markdown",
   "id": "e9fcd226-bae2-40ed-ba06-44381c1dc70e",
   "metadata": {
    "tags": []
   },
   "source": [
    "In this notebook, Data Science Tools and Ecosystem are summarized"
   ]
  },
  {
   "cell_type": "markdown",
   "id": "2fdeed70-156d-4b00-8527-ada9ea7634b7",
   "metadata": {},
   "source": [
    "Some of the popular languages that Data Scientists use are:\n",
    "\n",
    "1.python\n",
    "\n",
    "2.R\n",
    "\n",
    "3.SQL\n",
    "\n",
    "4.Java"
   ]
  },
  {
   "cell_type": "markdown",
   "id": "d27b0870-7ff4-43cd-be5f-0e7bb4cc5868",
   "metadata": {},
   "source": [
    "Some of the commonly used libraries used by Data Scientists include:\n",
    "\n",
    "1)NumPy\n",
    "\n",
    "2)Pandas\n",
    "\n",
    "3)Matplotlib\n",
    "\n",
    "4)Scikit-learn"
   ]
  },
  {
   "cell_type": "markdown",
   "id": "bdfcaa69-c912-493e-9e79-6ba7828cf8f8",
   "metadata": {},
   "source": [
    "|Data Science Tools|\n",
    "|---|\n",
    "|SAS|\n",
    "|Apache hadoop|\n",
    "|TenserFlow|"
   ]
  },
  {
   "cell_type": "markdown",
   "id": "6c176ef8-6b23-46cc-9f4b-0200acac575e",
   "metadata": {},
   "source": [
    "Below are a few examples of evaluating arithmetic expressions in Python."
   ]
  },
  {
   "cell_type": "code",
   "execution_count": 2,
   "id": "1e3166eb-3afe-428e-9150-92e9838c8f32",
   "metadata": {
    "tags": []
   },
   "outputs": [
    {
     "data": {
      "text/plain": [
       "5"
      ]
     },
     "execution_count": 2,
     "metadata": {},
     "output_type": "execute_result"
    }
   ],
   "source": [
    "2+3"
   ]
  },
  {
   "cell_type": "code",
   "execution_count": 4,
   "id": "8917233f-d5a1-4cc8-8193-fd36e8a37ede",
   "metadata": {
    "tags": []
   },
   "outputs": [
    {
     "data": {
      "text/plain": [
       "17"
      ]
     },
     "execution_count": 4,
     "metadata": {},
     "output_type": "execute_result"
    }
   ],
   "source": [
    "#This a simple arithmetic expression to mutiply then add integers\n",
    "(3*4)+5"
   ]
  },
  {
   "cell_type": "code",
   "execution_count": 7,
   "id": "fa198617-3268-4025-bb43-b7c0884b3e4c",
   "metadata": {
    "tags": []
   },
   "outputs": [
    {
     "data": {
      "text/plain": [
       "3.3333333333333335"
      ]
     },
     "execution_count": 7,
     "metadata": {},
     "output_type": "execute_result"
    }
   ],
   "source": [
    " #This will convert 200 minutes to hours by diving by 60\n",
    "200/60"
   ]
  },
  {
   "cell_type": "markdown",
   "id": "2fe3263d-2bed-4d2d-96fe-15b40266ed50",
   "metadata": {},
   "source": [
    "**Objective**\n",
    "\n",
    "-  List Popular Languages For Data Science\n",
    "-  List Popular Libraries For Data Science\n",
    "-  List Of Well Known Data Science Tools\n",
    "-  How to provide comments in the cell\n",
    "\n",
    "\n",
    "  "
   ]
  },
  {
   "cell_type": "markdown",
   "id": "19056c7a-28a6-4743-b6b3-7be26ccc79c2",
   "metadata": {},
   "source": [
    "**Author**\n",
    "\n",
    "\n",
    "Nagur Vali"
   ]
  },
  {
   "cell_type": "code",
   "execution_count": null,
   "id": "6dbb9e45-00c0-4845-97c3-b8b49a47fb85",
   "metadata": {},
   "outputs": [],
   "source": []
  }
 ],
 "metadata": {
  "kernelspec": {
   "display_name": "Python",
   "language": "python",
   "name": "conda-env-python-py"
  },
  "language_info": {
   "codemirror_mode": {
    "name": "ipython",
    "version": 3
   },
   "file_extension": ".py",
   "mimetype": "text/x-python",
   "name": "python",
   "nbconvert_exporter": "python",
   "pygments_lexer": "ipython3",
   "version": "3.7.12"
  }
 },
 "nbformat": 4,
 "nbformat_minor": 5
}
